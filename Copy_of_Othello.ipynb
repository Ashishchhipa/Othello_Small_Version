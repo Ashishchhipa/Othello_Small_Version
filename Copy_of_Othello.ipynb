{
  "nbformat": 4,
  "nbformat_minor": 0,
  "metadata": {
    "colab": {
      "provenance": [],
      "gpuType": "V28",
      "authorship_tag": "ABX9TyN+Hi1k01XHMsme7LunUsLr",
      "include_colab_link": true
    },
    "kernelspec": {
      "name": "python3",
      "display_name": "Python 3"
    },
    "language_info": {
      "name": "python"
    },
    "accelerator": "TPU"
  },
  "cells": [
    {
      "cell_type": "markdown",
      "metadata": {
        "id": "view-in-github",
        "colab_type": "text"
      },
      "source": [
        "<a href=\"https://colab.research.google.com/github/Ashishchhipa/Othello_Small_Version/blob/main/Copy_of_Othello.ipynb\" target=\"_parent\"><img src=\"https://colab.research.google.com/assets/colab-badge.svg\" alt=\"Open In Colab\"/></a>"
      ]
    },
    {
      "cell_type": "code",
      "source": [
        "def flip2(x, new_i, new_j, dir):\n",
        "  if new_i == 5 or new_i == -1 or new_j == 5 or new_j == -1:\n",
        "    return x\n",
        "  else:\n",
        "    curr_i = new_i + dir[0]\n",
        "    curr_j = new_j + dir[1]\n",
        "    # Check if curr_i and curr_j are within bounds before accessing x\n",
        "    if 0 <= curr_i < 4 and 0 <= curr_j < 4:\n",
        "      if x[curr_i][curr_j] == 1:\n",
        "        flip2(x, curr_i, curr_j, dir)\n",
        "      if x[curr_i][curr_j] == -1:\n",
        "        x[new_i][new_j] = -1\n",
        "        return x\n",
        "  return x"
      ],
      "metadata": {
        "id": "D191NO06lnhj"
      },
      "execution_count": null,
      "outputs": []
    },
    {
      "cell_type": "code",
      "source": [
        "def flip1(x, new_i, new_j, dir):\n",
        "  if new_i == 5 or new_i == -1 or new_j == 5 or new_j == -1:\n",
        "    return x\n",
        "  else:\n",
        "    curr_i = new_i + dir[0]\n",
        "    curr_j = new_j + dir[1]\n",
        "    # Check if curr_i and curr_j are within bounds before accessing x\n",
        "    if 0 <= curr_i < 4 and 0 <= curr_j < 4:\n",
        "      if x[curr_i][curr_j] == -1:\n",
        "        flip1(x, curr_i, curr_j, dir)\n",
        "      if x[curr_i][curr_j] == 1:\n",
        "        x[new_i][new_j] = 1\n",
        "        return x\n",
        "  return x"
      ],
      "metadata": {
        "id": "YlFWobM0QoST"
      },
      "execution_count": null,
      "outputs": []
    },
    {
      "cell_type": "code",
      "source": [
        "def current_board(x, i , j, n):\n",
        "  p = n\n",
        "  if p == 1:\n",
        "    dirs = [[-1,0],[0,-1,],[1,0],[0,1],[1,1],[-1,-1],[-1,1],[1,-1]]\n",
        "    for dir in dirs:\n",
        "      new_i = i + dir[0]\n",
        "      new_j = j + dir[1]\n",
        "      # Check if new_i and new_j are within the bounds of the array\n",
        "      if 0 <= new_i < 4 and 0 <= new_j < 4:\n",
        "        if x[new_i][new_j] == 1:\n",
        "          continue\n",
        "        if x[new_i][new_j] == -1: # Fixed: Removed extra brackets\n",
        "          x = flip1(x,new_i,new_j,dir)\n",
        "  else:\n",
        "    dirs = [[-1,0],[0,-1,],[1,0],[0,1],[1,1],[-1,-1],[-1,1],[1,-1]]\n",
        "    for dir in dirs:\n",
        "      new_i = i + dir[0]\n",
        "      new_j = j + dir[1]\n",
        "      # Check if new_i and new_j are within the bounds of the array\n",
        "      if 0 <= new_i < 4 and 0 <= new_j < 4:\n",
        "        if x[new_i][new_j] == -1:\n",
        "          continue\n",
        "        if x[new_i][new_j] == 1:  # Fixed: Removed extra brackets\n",
        "          x = flip2(x,new_i,new_j,dir)\n",
        "  return x"
      ],
      "metadata": {
        "id": "soDVtGlqA_H1"
      },
      "execution_count": null,
      "outputs": []
    },
    {
      "cell_type": "code",
      "source": [
        "def move1(x,open):\n",
        "  Open = []\n",
        "  for i in range(4):\n",
        "    for j in range(4):\n",
        "      if x[i][j] == 1:\n",
        "        Open.append((i,j))\n",
        "  return Open"
      ],
      "metadata": {
        "id": "_pB5uqmtmVkl"
      },
      "execution_count": null,
      "outputs": []
    },
    {
      "cell_type": "code",
      "source": [
        "def move2(x,open):\n",
        "  Open = []\n",
        "  for i in range(4):\n",
        "    for j in range(4):\n",
        "      if x[i][j] == -1:\n",
        "        Open.append((i,j))\n",
        "  return Open"
      ],
      "metadata": {
        "id": "uoy1gu4GsCAA"
      },
      "execution_count": null,
      "outputs": []
    },
    {
      "cell_type": "code",
      "source": [
        "def Possible_Moves(x,Moves,closed):\n",
        "  Move = []\n",
        "  for i in Moves:\n",
        "    dirs = [[-1,0],[0,-1,],[1,0],[0,1]]\n",
        "    for dir in dirs:\n",
        "      p = i[0] + dir[0]\n",
        "      q = i[1] + dir[1]\n",
        "      if p >= 0 and p < 4 and q >= 0 and q < 4:\n",
        "        if x[p][q] == 0 and (p,q) not in Move:\n",
        "          Move.append((p,q))\n",
        "  return Move"
      ],
      "metadata": {
        "id": "ECW5XeaQ8YlN"
      },
      "execution_count": null,
      "outputs": []
    },
    {
      "source": [
        "def Game(open,closed,n,x):\n",
        "  while open != []:\n",
        "    if n == -1:\n",
        "      print(\"Current_Board\")\n",
        "      print(x)\n",
        "      Moves = move1(x,open)\n",
        "      # print(\"Moves\",Moves)\n",
        "      moves = Possible_Moves(x,Moves,closed)\n",
        "      print(\"Possible Moves =\", moves)\n",
        "      print(\"Black Turn\")\n",
        "      while True:  # Keep asking for input until a valid integer is provided\n",
        "          i = input(\"Choose Your Moves ith index \")\n",
        "          j = input(\"Choose Your Moves jth index \")\n",
        "          if i.isdigit() and j.isdigit():  # Check if both inputs are digits\n",
        "              break\n",
        "          else:\n",
        "              print(\"Invalid input. Please enter integers for i and j.\")\n",
        "      # Convert i and j to integers before using them as indices\n",
        "      x[int(i)][int(j)] = -1  # Convert i and j to integers\n",
        "      New_Board = current_board(x,int(i),int(j),n)\n",
        "      closed.append((int(i),int(j))) # Convert i and j to integers\n",
        "\n",
        "      open.remove((int(i),int(j))) # Convert i and j to integers\n",
        "      x = New_Board\n",
        "      n = 1\n",
        "      Game(open,closed,n,x)\n",
        "    elif n == 1:\n",
        "      print(\"Current_Board\")\n",
        "      print(x)\n",
        "      Moves = move2(x,open)\n",
        "      # print(\"Moves\",Moves)\n",
        "      moves = Possible_Moves(x,Moves,closed)\n",
        "      print(\"Possible Moves =\", moves)\n",
        "      print(\"White Turn\")\n",
        "      while True:  # Keep asking for input until a valid integer is provided\n",
        "          i = input(\"Choose Your Moves ith index \")\n",
        "          j = input(\"Choose Your Moves jth index \")\n",
        "          if i.isdigit() and j.isdigit():  # Check if both inputs are digits\n",
        "              break\n",
        "          else:\n",
        "              print(\"Invalid input. Please enter integers for i and j.\")\n",
        "      # Convert i and j to integers before using them as indices\n",
        "      x[int(i)][int(j)] = 1\n",
        "      New_Board = current_board(x,int(i),int(j),n)# Convert i and j to integers\n",
        "      closed.append((int(i),int(j)))# Convert i and j to integers\n",
        "      open.remove((int(i),int(j)))# Convert i and j to integers\n",
        "      x = New_Board\n",
        "      n = -1\n",
        "      Game(open,closed,n,x)\n",
        "  return x"
      ],
      "cell_type": "code",
      "metadata": {
        "id": "CuR3vtFirUjv"
      },
      "execution_count": null,
      "outputs": []
    },
    {
      "cell_type": "code",
      "source": [
        "def start(x):\n",
        "  open = []\n",
        "  closed = []\n",
        "  for i in range(4):\n",
        "    for j in range(4):\n",
        "      if x[i][j] == 0:\n",
        "        open.append((i,j))\n",
        "  for i in range(4):\n",
        "    for j in range(4):\n",
        "      if x[i][j] == 1 or x[i][j] == -1:\n",
        "        closed.append((i,j))\n",
        "  Start_Game = Game(open,closed,-1,x)\n",
        "  return x"
      ],
      "metadata": {
        "id": "mF-1XuJzkg6H"
      },
      "execution_count": null,
      "outputs": []
    },
    {
      "cell_type": "code",
      "execution_count": null,
      "metadata": {
        "colab": {
          "base_uri": "https://localhost:8080/"
        },
        "id": "_BH9C-WMkOvW",
        "outputId": "bd483070-2ca1-47df-cb20-e6f739e573d2"
      },
      "outputs": [
        {
          "output_type": "stream",
          "name": "stdout",
          "text": [
            "Current_Board\n",
            "[[ 0  0  0  0]\n",
            " [ 0  1 -1  0]\n",
            " [ 0 -1  1  0]\n",
            " [ 0  0  0  0]]\n",
            "Possible Moves = [(0, 1), (1, 0), (3, 2), (2, 3)]\n",
            "Black Turn\n",
            "Choose Your Moves ith index 0\n",
            "Choose Your Moves jth index 1\n",
            "Current_Board\n",
            "[[ 0 -1  0  0]\n",
            " [ 0 -1 -1  0]\n",
            " [ 0 -1  1  0]\n",
            " [ 0  0  0  0]]\n",
            "Possible Moves = [(0, 0), (0, 2), (1, 0), (1, 3), (2, 0), (3, 1)]\n",
            "White Turn\n",
            "Choose Your Moves ith index 0\n",
            "Choose Your Moves jth index 0\n",
            "Current_Board\n",
            "[[ 1 -1  0  0]\n",
            " [ 0  1 -1  0]\n",
            " [ 0 -1  1  0]\n",
            " [ 0  0  0  0]]\n",
            "Possible Moves = [(1, 0), (3, 2), (2, 3)]\n",
            "Black Turn\n",
            "Choose Your Moves ith index 1\n",
            "Choose Your Moves jth index 0\n",
            "Current_Board\n",
            "[[ 1 -1  0  0]\n",
            " [-1 -1 -1  0]\n",
            " [ 0 -1  1  0]\n",
            " [ 0  0  0  0]]\n",
            "Possible Moves = [(0, 2), (2, 0), (1, 3), (3, 1)]\n",
            "White Turn\n",
            "Choose Your Moves ith index 0\n",
            "Choose Your Moves jth index 2\n",
            "Current_Board\n",
            "[[ 1  1  1  0]\n",
            " [-1 -1  1  0]\n",
            " [ 0 -1  1  0]\n",
            " [ 0  0  0  0]]\n",
            "Possible Moves = [(0, 3), (1, 3), (3, 2), (2, 3)]\n",
            "Black Turn\n",
            "Choose Your Moves ith index 1\n",
            "Choose Your Moves jth index 3\n",
            "Current_Board\n",
            "[[ 1  1  1  0]\n",
            " [-1 -1 -1 -1]\n",
            " [ 0 -1  1  0]\n",
            " [ 0  0  0  0]]\n",
            "Possible Moves = [(2, 0), (0, 3), (2, 3), (3, 1)]\n",
            "White Turn\n",
            "Choose Your Moves ith index 3\n",
            "Choose Your Moves jth index 1\n",
            "Current_Board\n",
            "[[ 1  1  1  0]\n",
            " [-1  1 -1 -1]\n",
            " [ 0  1  1  0]\n",
            " [ 0  1  0  0]]\n",
            "Possible Moves = [(0, 3), (2, 0), (3, 2), (2, 3), (3, 0)]\n",
            "Black Turn\n",
            "Choose Your Moves ith index 0\n",
            "Choose Your Moves jth index \n",
            "Invalid input. Please enter integers for i and j.\n",
            "Choose Your Moves ith index 0\n",
            "Choose Your Moves jth index 3\n",
            "Current_Board\n",
            "[[ 1  1  1 -1]\n",
            " [-1  1 -1 -1]\n",
            " [ 0  1  1  0]\n",
            " [ 0  1  0  0]]\n",
            "Possible Moves = [(2, 0), (2, 3)]\n",
            "White Turn\n",
            "Choose Your Moves ith index 2\n",
            "Choose Your Moves jth index 3\n",
            "Current_Board\n",
            "[[ 1  1  1 -1]\n",
            " [-1  1  1 -1]\n",
            " [ 0  1  1  1]\n",
            " [ 0  1  0  0]]\n",
            "Possible Moves = [(2, 0), (3, 2), (3, 3), (3, 0)]\n",
            "Black Turn\n",
            "Choose Your Moves ith index 3\n",
            "Choose Your Moves jth index 3\n",
            "Current_Board\n",
            "[[ 1  1  1 -1]\n",
            " [-1  1  1 -1]\n",
            " [ 0  1  1 -1]\n",
            " [ 0  1  0 -1]]\n",
            "Possible Moves = [(2, 0), (3, 2)]\n",
            "White Turn\n",
            "Choose Your Moves ith index 3\n",
            "Choose Your Moves jth index 2\n",
            "Current_Board\n",
            "[[ 1  1  1 -1]\n",
            " [-1  1  1 -1]\n",
            " [ 0  1  1 -1]\n",
            " [ 0  1  1 -1]]\n",
            "Possible Moves = [(2, 0), (3, 0)]\n",
            "Black Turn\n",
            "Choose Your Moves ith index 2\n",
            "Choose Your Moves jth index 0\n",
            "Current_Board\n",
            "[[ 1  1  1 -1]\n",
            " [-1  1  1 -1]\n",
            " [-1 -1 -1 -1]\n",
            " [ 0  1  1 -1]]\n",
            "Possible Moves = [(3, 0)]\n",
            "White Turn\n",
            "Choose Your Moves ith index 3\n",
            "Choose Your Moves jth index 0\n",
            "[[ 1  1  1 -1]\n",
            " [ 1  1  1 -1]\n",
            " [ 1  1 -1 -1]\n",
            " [ 1  1  1 -1]]\n",
            "White Wins 5 11\n"
          ]
        }
      ],
      "source": [
        "import numpy as np\n",
        "## Here white = 1 and Black = -1\n",
        "x = np.zeros((4,4),dtype=np.int16)\n",
        "x[1][1] = 1\n",
        "x[2][2] = 1\n",
        "x[1][2] = -1\n",
        "x[2][1] = -1\n",
        "Game = start(x)\n",
        "print(x)\n",
        "cnt1 = 0\n",
        "cnt2 = 0\n",
        "for i in range(4):\n",
        "  for j in range(4):\n",
        "    if x[i][j] == 1:\n",
        "      cnt2 += 1\n",
        "    elif x[i][j] == -1:\n",
        "      cnt1 += 1\n",
        "if cnt1 > cnt2:\n",
        "  print(\"Black Wins\")\n",
        "  print(\"Count of white =\", cnt2)\n",
        "  print(\"Count of black =\", cnt1)\n",
        "elif cnt1 < cnt2:\n",
        "  print(\"White Wins\")\n",
        "  print(\"Count of white =\", cnt2)\n",
        "  print(\"Count of white =\", cnt1)\n",
        "else:\n",
        "  print(\"Draw\",cnt1,cnt2)"
      ]
    },
    {
      "cell_type": "code",
      "source": [],
      "metadata": {
        "id": "EGXB-_s1tnZT"
      },
      "execution_count": null,
      "outputs": []
    }
  ]
}